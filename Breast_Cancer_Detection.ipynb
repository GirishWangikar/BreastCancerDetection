{
  "nbformat": 4,
  "nbformat_minor": 0,
  "metadata": {
    "colab": {
      "name": "Breast Cancer Detection.ipynb",
      "provenance": [],
      "collapsed_sections": []
    },
    "kernelspec": {
      "name": "python3",
      "display_name": "Python 3"
    },
    "language_info": {
      "name": "python"
    }
  },
  "cells": [
    {
      "cell_type": "code",
      "metadata": {
        "id": "jV9I6fO1IdDc"
      },
      "source": [
        "from sklearn.datasets import load_breast_cancer\n",
        "from sklearn.preprocessing import StandardScaler\n",
        "import pandas as pd\n",
        "import numpy as np\n",
        "from keras.models import Sequential \n",
        "from keras.layers import Dense\n"
      ],
      "execution_count": 1,
      "outputs": []
    },
    {
      "cell_type": "code",
      "metadata": {
        "id": "OcdFWtEnIpVH"
      },
      "source": [
        "data=load_breast_cancer()\n",
        "scale=StandardScaler()"
      ],
      "execution_count": 2,
      "outputs": []
    },
    {
      "cell_type": "code",
      "metadata": {
        "colab": {
          "base_uri": "https://localhost:8080/"
        },
        "id": "O88mMr9aIzL5",
        "outputId": "4a730911-51cc-4a0f-c197-b5565bf60b43"
      },
      "source": [
        "data.keys()"
      ],
      "execution_count": 3,
      "outputs": [
        {
          "output_type": "execute_result",
          "data": {
            "text/plain": [
              "dict_keys(['data', 'target', 'target_names', 'DESCR', 'feature_names', 'filename'])"
            ]
          },
          "metadata": {},
          "execution_count": 3
        }
      ]
    },
    {
      "cell_type": "code",
      "metadata": {
        "colab": {
          "base_uri": "https://localhost:8080/"
        },
        "id": "PKiMrb-4I15K",
        "outputId": "bc2c50ec-de5e-4795-dc57-907d9ea045a9"
      },
      "source": [
        "print(data['DESCR'])\n",
        "data['data'].shape"
      ],
      "execution_count": null,
      "outputs": [
        {
          "output_type": "stream",
          "name": "stdout",
          "text": [
            ".. _breast_cancer_dataset:\n",
            "\n",
            "Breast cancer wisconsin (diagnostic) dataset\n",
            "--------------------------------------------\n",
            "\n",
            "**Data Set Characteristics:**\n",
            "\n",
            "    :Number of Instances: 569\n",
            "\n",
            "    :Number of Attributes: 30 numeric, predictive attributes and the class\n",
            "\n",
            "    :Attribute Information:\n",
            "        - radius (mean of distances from center to points on the perimeter)\n",
            "        - texture (standard deviation of gray-scale values)\n",
            "        - perimeter\n",
            "        - area\n",
            "        - smoothness (local variation in radius lengths)\n",
            "        - compactness (perimeter^2 / area - 1.0)\n",
            "        - concavity (severity of concave portions of the contour)\n",
            "        - concave points (number of concave portions of the contour)\n",
            "        - symmetry \n",
            "        - fractal dimension (\"coastline approximation\" - 1)\n",
            "\n",
            "        The mean, standard error, and \"worst\" or largest (mean of the three\n",
            "        largest values) of these features were computed for each image,\n",
            "        resulting in 30 features.  For instance, field 3 is Mean Radius, field\n",
            "        13 is Radius SE, field 23 is Worst Radius.\n",
            "\n",
            "        - class:\n",
            "                - WDBC-Malignant\n",
            "                - WDBC-Benign\n",
            "\n",
            "    :Summary Statistics:\n",
            "\n",
            "    ===================================== ====== ======\n",
            "                                           Min    Max\n",
            "    ===================================== ====== ======\n",
            "    radius (mean):                        6.981  28.11\n",
            "    texture (mean):                       9.71   39.28\n",
            "    perimeter (mean):                     43.79  188.5\n",
            "    area (mean):                          143.5  2501.0\n",
            "    smoothness (mean):                    0.053  0.163\n",
            "    compactness (mean):                   0.019  0.345\n",
            "    concavity (mean):                     0.0    0.427\n",
            "    concave points (mean):                0.0    0.201\n",
            "    symmetry (mean):                      0.106  0.304\n",
            "    fractal dimension (mean):             0.05   0.097\n",
            "    radius (standard error):              0.112  2.873\n",
            "    texture (standard error):             0.36   4.885\n",
            "    perimeter (standard error):           0.757  21.98\n",
            "    area (standard error):                6.802  542.2\n",
            "    smoothness (standard error):          0.002  0.031\n",
            "    compactness (standard error):         0.002  0.135\n",
            "    concavity (standard error):           0.0    0.396\n",
            "    concave points (standard error):      0.0    0.053\n",
            "    symmetry (standard error):            0.008  0.079\n",
            "    fractal dimension (standard error):   0.001  0.03\n",
            "    radius (worst):                       7.93   36.04\n",
            "    texture (worst):                      12.02  49.54\n",
            "    perimeter (worst):                    50.41  251.2\n",
            "    area (worst):                         185.2  4254.0\n",
            "    smoothness (worst):                   0.071  0.223\n",
            "    compactness (worst):                  0.027  1.058\n",
            "    concavity (worst):                    0.0    1.252\n",
            "    concave points (worst):               0.0    0.291\n",
            "    symmetry (worst):                     0.156  0.664\n",
            "    fractal dimension (worst):            0.055  0.208\n",
            "    ===================================== ====== ======\n",
            "\n",
            "    :Missing Attribute Values: None\n",
            "\n",
            "    :Class Distribution: 212 - Malignant, 357 - Benign\n",
            "\n",
            "    :Creator:  Dr. William H. Wolberg, W. Nick Street, Olvi L. Mangasarian\n",
            "\n",
            "    :Donor: Nick Street\n",
            "\n",
            "    :Date: November, 1995\n",
            "\n",
            "This is a copy of UCI ML Breast Cancer Wisconsin (Diagnostic) datasets.\n",
            "https://goo.gl/U2Uwz2\n",
            "\n",
            "Features are computed from a digitized image of a fine needle\n",
            "aspirate (FNA) of a breast mass.  They describe\n",
            "characteristics of the cell nuclei present in the image.\n",
            "\n",
            "Separating plane described above was obtained using\n",
            "Multisurface Method-Tree (MSM-T) [K. P. Bennett, \"Decision Tree\n",
            "Construction Via Linear Programming.\" Proceedings of the 4th\n",
            "Midwest Artificial Intelligence and Cognitive Science Society,\n",
            "pp. 97-101, 1992], a classification method which uses linear\n",
            "programming to construct a decision tree.  Relevant features\n",
            "were selected using an exhaustive search in the space of 1-4\n",
            "features and 1-3 separating planes.\n",
            "\n",
            "The actual linear program used to obtain the separating plane\n",
            "in the 3-dimensional space is that described in:\n",
            "[K. P. Bennett and O. L. Mangasarian: \"Robust Linear\n",
            "Programming Discrimination of Two Linearly Inseparable Sets\",\n",
            "Optimization Methods and Software 1, 1992, 23-34].\n",
            "\n",
            "This database is also available through the UW CS ftp server:\n",
            "\n",
            "ftp ftp.cs.wisc.edu\n",
            "cd math-prog/cpo-dataset/machine-learn/WDBC/\n",
            "\n",
            ".. topic:: References\n",
            "\n",
            "   - W.N. Street, W.H. Wolberg and O.L. Mangasarian. Nuclear feature extraction \n",
            "     for breast tumor diagnosis. IS&T/SPIE 1993 International Symposium on \n",
            "     Electronic Imaging: Science and Technology, volume 1905, pages 861-870,\n",
            "     San Jose, CA, 1993.\n",
            "   - O.L. Mangasarian, W.N. Street and W.H. Wolberg. Breast cancer diagnosis and \n",
            "     prognosis via linear programming. Operations Research, 43(4), pages 570-577, \n",
            "     July-August 1995.\n",
            "   - W.H. Wolberg, W.N. Street, and O.L. Mangasarian. Machine learning techniques\n",
            "     to diagnose breast cancer from fine-needle aspirates. Cancer Letters 77 (1994) \n",
            "     163-171.\n"
          ]
        },
        {
          "output_type": "execute_result",
          "data": {
            "text/plain": [
              "(569, 30)"
            ]
          },
          "metadata": {},
          "execution_count": 9
        }
      ]
    },
    {
      "cell_type": "code",
      "metadata": {
        "colab": {
          "base_uri": "https://localhost:8080/"
        },
        "id": "__OEZ3ppJq7q",
        "outputId": "76675d5b-c3fd-4ab1-d13a-29c5d844f7ae"
      },
      "source": [
        "j=0\n",
        "for i in data['feature_names']:\n",
        "  print(i,data['data'][0][j])  #change in place of 0 for different row information\n",
        "  j+=1"
      ],
      "execution_count": 4,
      "outputs": [
        {
          "output_type": "stream",
          "name": "stdout",
          "text": [
            "mean radius 17.99\n",
            "mean texture 10.38\n",
            "mean perimeter 122.8\n",
            "mean area 1001.0\n",
            "mean smoothness 0.1184\n",
            "mean compactness 0.2776\n",
            "mean concavity 0.3001\n",
            "mean concave points 0.1471\n",
            "mean symmetry 0.2419\n",
            "mean fractal dimension 0.07871\n",
            "radius error 1.095\n",
            "texture error 0.9053\n",
            "perimeter error 8.589\n",
            "area error 153.4\n",
            "smoothness error 0.006399\n",
            "compactness error 0.04904\n",
            "concavity error 0.05373\n",
            "concave points error 0.01587\n",
            "symmetry error 0.03003\n",
            "fractal dimension error 0.006193\n",
            "worst radius 25.38\n",
            "worst texture 17.33\n",
            "worst perimeter 184.6\n",
            "worst area 2019.0\n",
            "worst smoothness 0.1622\n",
            "worst compactness 0.6656\n",
            "worst concavity 0.7119\n",
            "worst concave points 0.2654\n",
            "worst symmetry 0.4601\n",
            "worst fractal dimension 0.1189\n"
          ]
        }
      ]
    },
    {
      "cell_type": "code",
      "metadata": {
        "colab": {
          "base_uri": "https://localhost:8080/"
        },
        "id": "mjaLwsdXKfoV",
        "outputId": "6ff88759-f111-46b2-e629-854272112709"
      },
      "source": [
        "print(data['target_names'])\n",
        "data['target'] #0 represents malignant 1 gives benign"
      ],
      "execution_count": null,
      "outputs": [
        {
          "output_type": "stream",
          "name": "stdout",
          "text": [
            "['malignant' 'benign']\n"
          ]
        },
        {
          "output_type": "execute_result",
          "data": {
            "text/plain": [
              "array([0, 0, 0, 0, 0, 0, 0, 0, 0, 0, 0, 0, 0, 0, 0, 0, 0, 0, 0, 1, 1, 1,\n",
              "       0, 0, 0, 0, 0, 0, 0, 0, 0, 0, 0, 0, 0, 0, 0, 1, 0, 0, 0, 0, 0, 0,\n",
              "       0, 0, 1, 0, 1, 1, 1, 1, 1, 0, 0, 1, 0, 0, 1, 1, 1, 1, 0, 1, 0, 0,\n",
              "       1, 1, 1, 1, 0, 1, 0, 0, 1, 0, 1, 0, 0, 1, 1, 1, 0, 0, 1, 0, 0, 0,\n",
              "       1, 1, 1, 0, 1, 1, 0, 0, 1, 1, 1, 0, 0, 1, 1, 1, 1, 0, 1, 1, 0, 1,\n",
              "       1, 1, 1, 1, 1, 1, 1, 0, 0, 0, 1, 0, 0, 1, 1, 1, 0, 0, 1, 0, 1, 0,\n",
              "       0, 1, 0, 0, 1, 1, 0, 1, 1, 0, 1, 1, 1, 1, 0, 1, 1, 1, 1, 1, 1, 1,\n",
              "       1, 1, 0, 1, 1, 1, 1, 0, 0, 1, 0, 1, 1, 0, 0, 1, 1, 0, 0, 1, 1, 1,\n",
              "       1, 0, 1, 1, 0, 0, 0, 1, 0, 1, 0, 1, 1, 1, 0, 1, 1, 0, 0, 1, 0, 0,\n",
              "       0, 0, 1, 0, 0, 0, 1, 0, 1, 0, 1, 1, 0, 1, 0, 0, 0, 0, 1, 1, 0, 0,\n",
              "       1, 1, 1, 0, 1, 1, 1, 1, 1, 0, 0, 1, 1, 0, 1, 1, 0, 0, 1, 0, 1, 1,\n",
              "       1, 1, 0, 1, 1, 1, 1, 1, 0, 1, 0, 0, 0, 0, 0, 0, 0, 0, 0, 0, 0, 0,\n",
              "       0, 0, 1, 1, 1, 1, 1, 1, 0, 1, 0, 1, 1, 0, 1, 1, 0, 1, 0, 0, 1, 1,\n",
              "       1, 1, 1, 1, 1, 1, 1, 1, 1, 1, 1, 0, 1, 1, 0, 1, 0, 1, 1, 1, 1, 1,\n",
              "       1, 1, 1, 1, 1, 1, 1, 1, 1, 0, 1, 1, 1, 0, 1, 0, 1, 1, 1, 1, 0, 0,\n",
              "       0, 1, 1, 1, 1, 0, 1, 0, 1, 0, 1, 1, 1, 0, 1, 1, 1, 1, 1, 1, 1, 0,\n",
              "       0, 0, 1, 1, 1, 1, 1, 1, 1, 1, 1, 1, 1, 0, 0, 1, 0, 0, 0, 1, 0, 0,\n",
              "       1, 1, 1, 1, 1, 0, 1, 1, 1, 1, 1, 0, 1, 1, 1, 0, 1, 1, 0, 0, 1, 1,\n",
              "       1, 1, 1, 1, 0, 1, 1, 1, 1, 1, 1, 1, 0, 1, 1, 1, 1, 1, 0, 1, 1, 0,\n",
              "       1, 1, 1, 1, 1, 1, 1, 1, 1, 1, 1, 1, 0, 1, 0, 0, 1, 0, 1, 1, 1, 1,\n",
              "       1, 0, 1, 1, 0, 1, 0, 1, 1, 0, 1, 0, 1, 1, 1, 1, 1, 1, 1, 1, 0, 0,\n",
              "       1, 1, 1, 1, 1, 1, 0, 1, 1, 1, 1, 1, 1, 1, 1, 1, 1, 0, 1, 1, 1, 1,\n",
              "       1, 1, 1, 0, 1, 0, 1, 1, 0, 1, 1, 1, 1, 1, 0, 0, 1, 0, 1, 0, 1, 1,\n",
              "       1, 1, 1, 0, 1, 1, 0, 1, 0, 1, 0, 0, 1, 1, 1, 0, 1, 1, 1, 1, 1, 1,\n",
              "       1, 1, 1, 1, 1, 0, 1, 0, 0, 1, 1, 1, 1, 1, 1, 1, 1, 1, 1, 1, 1, 1,\n",
              "       1, 1, 1, 1, 1, 1, 1, 1, 1, 1, 1, 1, 0, 0, 0, 0, 0, 0, 1])"
            ]
          },
          "metadata": {},
          "execution_count": 11
        }
      ]
    },
    {
      "cell_type": "code",
      "metadata": {
        "id": "yJqPwcafOpTD"
      },
      "source": [
        "feature=data['data']\n",
        "label=data['target']\n",
        "feature=scale.fit_transform(feature)"
      ],
      "execution_count": 5,
      "outputs": []
    },
    {
      "cell_type": "code",
      "metadata": {
        "colab": {
          "base_uri": "https://localhost:8080/"
        },
        "id": "A5IQcL_pQzwU",
        "outputId": "2451c172-2dd6-4212-aff9-0425ccc25252"
      },
      "source": [
        "j=0\n",
        "for i in data['feature_names']:\n",
        "  print(i,feature[0][j])  #change in place of 0 for different row information\n",
        "  j+=1"
      ],
      "execution_count": 6,
      "outputs": [
        {
          "output_type": "stream",
          "name": "stdout",
          "text": [
            "mean radius 1.0970639814699807\n",
            "mean texture -2.0733350146975935\n",
            "mean perimeter 1.2699336881399383\n",
            "mean area 0.9843749048031144\n",
            "mean smoothness 1.568466329243428\n",
            "mean compactness 3.2835146709868264\n",
            "mean concavity 2.652873983743168\n",
            "mean concave points 2.532475216403245\n",
            "mean symmetry 2.2175150059646405\n",
            "mean fractal dimension 2.255746885296269\n",
            "radius error 2.4897339267376193\n",
            "texture error -0.5652650590684639\n",
            "perimeter error 2.833030865855184\n",
            "area error 2.4875775569611043\n",
            "smoothness error -0.21400164666895383\n",
            "compactness error 1.3168615683959484\n",
            "concavity error 0.72402615808036\n",
            "concave points error 0.6608199414286064\n",
            "symmetry error 1.1487566671861758\n",
            "fractal dimension error 0.9070830809973359\n",
            "worst radius 1.8866896251792757\n",
            "worst texture -1.3592934737640827\n",
            "worst perimeter 2.3036006236225606\n",
            "worst area 2.0012374893299207\n",
            "worst smoothness 1.3076862710715387\n",
            "worst compactness 2.616665023512603\n",
            "worst concavity 2.1095263465722556\n",
            "worst concave points 2.296076127561788\n",
            "worst symmetry 2.750622244124955\n",
            "worst fractal dimension 1.9370146123781782\n"
          ]
        }
      ]
    },
    {
      "cell_type": "code",
      "metadata": {
        "colab": {
          "base_uri": "https://localhost:8080/"
        },
        "id": "ZRe8clJWQ1TO",
        "outputId": "31f07fc6-3fd0-4fbd-cead-fda7f611b458"
      },
      "source": [
        "print(feature[0])\n",
        "print(data['target_names'][label[0]],[label[0]])"
      ],
      "execution_count": 7,
      "outputs": [
        {
          "output_type": "stream",
          "name": "stdout",
          "text": [
            "[ 1.09706398 -2.07333501  1.26993369  0.9843749   1.56846633  3.28351467\n",
            "  2.65287398  2.53247522  2.21751501  2.25574689  2.48973393 -0.56526506\n",
            "  2.83303087  2.48757756 -0.21400165  1.31686157  0.72402616  0.66081994\n",
            "  1.14875667  0.90708308  1.88668963 -1.35929347  2.30360062  2.00123749\n",
            "  1.30768627  2.61666502  2.10952635  2.29607613  2.75062224  1.93701461]\n",
            "malignant [0]\n"
          ]
        }
      ]
    },
    {
      "cell_type": "code",
      "metadata": {
        "colab": {
          "base_uri": "https://localhost:8080/",
          "height": 258
        },
        "id": "Vbhe9VgSSJHX",
        "outputId": "310b614a-0319-47e0-a8b6-35b669f5cde2"
      },
      "source": [
        "df=pd.DataFrame(feature,columns=data['feature_names'])\n",
        "df.head()"
      ],
      "execution_count": 8,
      "outputs": [
        {
          "output_type": "execute_result",
          "data": {
            "text/html": [
              "<div>\n",
              "<style scoped>\n",
              "    .dataframe tbody tr th:only-of-type {\n",
              "        vertical-align: middle;\n",
              "    }\n",
              "\n",
              "    .dataframe tbody tr th {\n",
              "        vertical-align: top;\n",
              "    }\n",
              "\n",
              "    .dataframe thead th {\n",
              "        text-align: right;\n",
              "    }\n",
              "</style>\n",
              "<table border=\"1\" class=\"dataframe\">\n",
              "  <thead>\n",
              "    <tr style=\"text-align: right;\">\n",
              "      <th></th>\n",
              "      <th>mean radius</th>\n",
              "      <th>mean texture</th>\n",
              "      <th>mean perimeter</th>\n",
              "      <th>mean area</th>\n",
              "      <th>mean smoothness</th>\n",
              "      <th>mean compactness</th>\n",
              "      <th>mean concavity</th>\n",
              "      <th>mean concave points</th>\n",
              "      <th>mean symmetry</th>\n",
              "      <th>mean fractal dimension</th>\n",
              "      <th>radius error</th>\n",
              "      <th>texture error</th>\n",
              "      <th>perimeter error</th>\n",
              "      <th>area error</th>\n",
              "      <th>smoothness error</th>\n",
              "      <th>compactness error</th>\n",
              "      <th>concavity error</th>\n",
              "      <th>concave points error</th>\n",
              "      <th>symmetry error</th>\n",
              "      <th>fractal dimension error</th>\n",
              "      <th>worst radius</th>\n",
              "      <th>worst texture</th>\n",
              "      <th>worst perimeter</th>\n",
              "      <th>worst area</th>\n",
              "      <th>worst smoothness</th>\n",
              "      <th>worst compactness</th>\n",
              "      <th>worst concavity</th>\n",
              "      <th>worst concave points</th>\n",
              "      <th>worst symmetry</th>\n",
              "      <th>worst fractal dimension</th>\n",
              "    </tr>\n",
              "  </thead>\n",
              "  <tbody>\n",
              "    <tr>\n",
              "      <th>0</th>\n",
              "      <td>1.097064</td>\n",
              "      <td>-2.073335</td>\n",
              "      <td>1.269934</td>\n",
              "      <td>0.984375</td>\n",
              "      <td>1.568466</td>\n",
              "      <td>3.283515</td>\n",
              "      <td>2.652874</td>\n",
              "      <td>2.532475</td>\n",
              "      <td>2.217515</td>\n",
              "      <td>2.255747</td>\n",
              "      <td>2.489734</td>\n",
              "      <td>-0.565265</td>\n",
              "      <td>2.833031</td>\n",
              "      <td>2.487578</td>\n",
              "      <td>-0.214002</td>\n",
              "      <td>1.316862</td>\n",
              "      <td>0.724026</td>\n",
              "      <td>0.660820</td>\n",
              "      <td>1.148757</td>\n",
              "      <td>0.907083</td>\n",
              "      <td>1.886690</td>\n",
              "      <td>-1.359293</td>\n",
              "      <td>2.303601</td>\n",
              "      <td>2.001237</td>\n",
              "      <td>1.307686</td>\n",
              "      <td>2.616665</td>\n",
              "      <td>2.109526</td>\n",
              "      <td>2.296076</td>\n",
              "      <td>2.750622</td>\n",
              "      <td>1.937015</td>\n",
              "    </tr>\n",
              "    <tr>\n",
              "      <th>1</th>\n",
              "      <td>1.829821</td>\n",
              "      <td>-0.353632</td>\n",
              "      <td>1.685955</td>\n",
              "      <td>1.908708</td>\n",
              "      <td>-0.826962</td>\n",
              "      <td>-0.487072</td>\n",
              "      <td>-0.023846</td>\n",
              "      <td>0.548144</td>\n",
              "      <td>0.001392</td>\n",
              "      <td>-0.868652</td>\n",
              "      <td>0.499255</td>\n",
              "      <td>-0.876244</td>\n",
              "      <td>0.263327</td>\n",
              "      <td>0.742402</td>\n",
              "      <td>-0.605351</td>\n",
              "      <td>-0.692926</td>\n",
              "      <td>-0.440780</td>\n",
              "      <td>0.260162</td>\n",
              "      <td>-0.805450</td>\n",
              "      <td>-0.099444</td>\n",
              "      <td>1.805927</td>\n",
              "      <td>-0.369203</td>\n",
              "      <td>1.535126</td>\n",
              "      <td>1.890489</td>\n",
              "      <td>-0.375612</td>\n",
              "      <td>-0.430444</td>\n",
              "      <td>-0.146749</td>\n",
              "      <td>1.087084</td>\n",
              "      <td>-0.243890</td>\n",
              "      <td>0.281190</td>\n",
              "    </tr>\n",
              "    <tr>\n",
              "      <th>2</th>\n",
              "      <td>1.579888</td>\n",
              "      <td>0.456187</td>\n",
              "      <td>1.566503</td>\n",
              "      <td>1.558884</td>\n",
              "      <td>0.942210</td>\n",
              "      <td>1.052926</td>\n",
              "      <td>1.363478</td>\n",
              "      <td>2.037231</td>\n",
              "      <td>0.939685</td>\n",
              "      <td>-0.398008</td>\n",
              "      <td>1.228676</td>\n",
              "      <td>-0.780083</td>\n",
              "      <td>0.850928</td>\n",
              "      <td>1.181336</td>\n",
              "      <td>-0.297005</td>\n",
              "      <td>0.814974</td>\n",
              "      <td>0.213076</td>\n",
              "      <td>1.424827</td>\n",
              "      <td>0.237036</td>\n",
              "      <td>0.293559</td>\n",
              "      <td>1.511870</td>\n",
              "      <td>-0.023974</td>\n",
              "      <td>1.347475</td>\n",
              "      <td>1.456285</td>\n",
              "      <td>0.527407</td>\n",
              "      <td>1.082932</td>\n",
              "      <td>0.854974</td>\n",
              "      <td>1.955000</td>\n",
              "      <td>1.152255</td>\n",
              "      <td>0.201391</td>\n",
              "    </tr>\n",
              "    <tr>\n",
              "      <th>3</th>\n",
              "      <td>-0.768909</td>\n",
              "      <td>0.253732</td>\n",
              "      <td>-0.592687</td>\n",
              "      <td>-0.764464</td>\n",
              "      <td>3.283553</td>\n",
              "      <td>3.402909</td>\n",
              "      <td>1.915897</td>\n",
              "      <td>1.451707</td>\n",
              "      <td>2.867383</td>\n",
              "      <td>4.910919</td>\n",
              "      <td>0.326373</td>\n",
              "      <td>-0.110409</td>\n",
              "      <td>0.286593</td>\n",
              "      <td>-0.288378</td>\n",
              "      <td>0.689702</td>\n",
              "      <td>2.744280</td>\n",
              "      <td>0.819518</td>\n",
              "      <td>1.115007</td>\n",
              "      <td>4.732680</td>\n",
              "      <td>2.047511</td>\n",
              "      <td>-0.281464</td>\n",
              "      <td>0.133984</td>\n",
              "      <td>-0.249939</td>\n",
              "      <td>-0.550021</td>\n",
              "      <td>3.394275</td>\n",
              "      <td>3.893397</td>\n",
              "      <td>1.989588</td>\n",
              "      <td>2.175786</td>\n",
              "      <td>6.046041</td>\n",
              "      <td>4.935010</td>\n",
              "    </tr>\n",
              "    <tr>\n",
              "      <th>4</th>\n",
              "      <td>1.750297</td>\n",
              "      <td>-1.151816</td>\n",
              "      <td>1.776573</td>\n",
              "      <td>1.826229</td>\n",
              "      <td>0.280372</td>\n",
              "      <td>0.539340</td>\n",
              "      <td>1.371011</td>\n",
              "      <td>1.428493</td>\n",
              "      <td>-0.009560</td>\n",
              "      <td>-0.562450</td>\n",
              "      <td>1.270543</td>\n",
              "      <td>-0.790244</td>\n",
              "      <td>1.273189</td>\n",
              "      <td>1.190357</td>\n",
              "      <td>1.483067</td>\n",
              "      <td>-0.048520</td>\n",
              "      <td>0.828471</td>\n",
              "      <td>1.144205</td>\n",
              "      <td>-0.361092</td>\n",
              "      <td>0.499328</td>\n",
              "      <td>1.298575</td>\n",
              "      <td>-1.466770</td>\n",
              "      <td>1.338539</td>\n",
              "      <td>1.220724</td>\n",
              "      <td>0.220556</td>\n",
              "      <td>-0.313395</td>\n",
              "      <td>0.613179</td>\n",
              "      <td>0.729259</td>\n",
              "      <td>-0.868353</td>\n",
              "      <td>-0.397100</td>\n",
              "    </tr>\n",
              "  </tbody>\n",
              "</table>\n",
              "</div>"
            ],
            "text/plain": [
              "   mean radius  mean texture  ...  worst symmetry  worst fractal dimension\n",
              "0     1.097064     -2.073335  ...        2.750622                 1.937015\n",
              "1     1.829821     -0.353632  ...       -0.243890                 0.281190\n",
              "2     1.579888      0.456187  ...        1.152255                 0.201391\n",
              "3    -0.768909      0.253732  ...        6.046041                 4.935010\n",
              "4     1.750297     -1.151816  ...       -0.868353                -0.397100\n",
              "\n",
              "[5 rows x 30 columns]"
            ]
          },
          "metadata": {},
          "execution_count": 8
        }
      ]
    },
    {
      "cell_type": "code",
      "metadata": {
        "id": "LUenLh1VTNMB"
      },
      "source": [
        "#500 training\n",
        "#35 validation\n",
        "#34 testing\n",
        "x_train=feature[:500]\n",
        "y_train=label[:500]\n",
        "\n",
        "x_test=feature[500:535]\n",
        "y_test=label[500:535]\n",
        "\n",
        "x_val=feature[535:]\n",
        "y_val=label[535:]\n"
      ],
      "execution_count": 9,
      "outputs": []
    },
    {
      "cell_type": "code",
      "metadata": {
        "id": "eXyq_U5KU0og"
      },
      "source": [
        "model = Sequential()\n",
        "\n",
        "model.add(Dense(32, activation = 'relu', input_dim = 30))\n",
        "model.add(Dense(64, activation = 'relu'))\n",
        "model.add(Dense(128, activation = 'relu'))\n",
        "model.add(Dense(64, activation = 'relu'))\n",
        "model.add(Dense(32, activation = 'relu'))\n",
        "model.add(Dense(1, activation = 'sigmoid'))\n",
        "\n",
        "model.compile( loss = 'binary_crossentropy' , optimizer = 'adam' , metrics = ['accuracy'])"
      ],
      "execution_count": 10,
      "outputs": []
    },
    {
      "cell_type": "code",
      "metadata": {
        "colab": {
          "base_uri": "https://localhost:8080/"
        },
        "id": "FOYhze_OZXx3",
        "outputId": "db7ce1b8-cd54-45d9-8a0a-8898c541d62b"
      },
      "source": [
        "\n",
        "model.fit( x_train , y_train, epochs = 10, batch_size = 5, validation_data = (x_val, y_val))"
      ],
      "execution_count": 13,
      "outputs": [
        {
          "output_type": "stream",
          "name": "stdout",
          "text": [
            "Epoch 1/10\n",
            "100/100 [==============================] - 1s 3ms/step - loss: 0.2664 - accuracy: 0.9240 - val_loss: 0.1191 - val_accuracy: 0.9412\n",
            "Epoch 2/10\n",
            "100/100 [==============================] - 0s 1ms/step - loss: 0.0815 - accuracy: 0.9740 - val_loss: 0.1793 - val_accuracy: 0.9118\n",
            "Epoch 3/10\n",
            "100/100 [==============================] - 0s 2ms/step - loss: 0.0553 - accuracy: 0.9840 - val_loss: 0.1135 - val_accuracy: 0.9118\n",
            "Epoch 4/10\n",
            "100/100 [==============================] - 0s 2ms/step - loss: 0.0532 - accuracy: 0.9740 - val_loss: 0.0346 - val_accuracy: 1.0000\n",
            "Epoch 5/10\n",
            "100/100 [==============================] - 0s 2ms/step - loss: 0.0401 - accuracy: 0.9840 - val_loss: 0.1508 - val_accuracy: 0.9412\n",
            "Epoch 6/10\n",
            "100/100 [==============================] - 0s 1ms/step - loss: 0.0300 - accuracy: 0.9920 - val_loss: 0.0981 - val_accuracy: 0.9706\n",
            "Epoch 7/10\n",
            "100/100 [==============================] - 0s 1ms/step - loss: 0.0184 - accuracy: 0.9940 - val_loss: 0.0998 - val_accuracy: 0.9706\n",
            "Epoch 8/10\n",
            "100/100 [==============================] - 0s 1ms/step - loss: 0.0162 - accuracy: 0.9940 - val_loss: 0.0219 - val_accuracy: 1.0000\n",
            "Epoch 9/10\n",
            "100/100 [==============================] - 0s 1ms/step - loss: 0.0127 - accuracy: 0.9920 - val_loss: 0.1339 - val_accuracy: 0.9412\n",
            "Epoch 10/10\n",
            "100/100 [==============================] - 0s 1ms/step - loss: 0.0449 - accuracy: 0.9860 - val_loss: 0.4281 - val_accuracy: 0.8824\n"
          ]
        },
        {
          "output_type": "execute_result",
          "data": {
            "text/plain": [
              "<keras.callbacks.History at 0x7f832d40c690>"
            ]
          },
          "metadata": {},
          "execution_count": 13
        }
      ]
    },
    {
      "cell_type": "code",
      "metadata": {
        "colab": {
          "base_uri": "https://localhost:8080/"
        },
        "id": "5yAcIvvKZhbE",
        "outputId": "8b563d0c-9d15-41ef-c2d2-4afbd08efd6e"
      },
      "source": [
        "model.evaluate(x_test , y_test)\n"
      ],
      "execution_count": 15,
      "outputs": [
        {
          "output_type": "stream",
          "name": "stdout",
          "text": [
            "2/2 [==============================] - 0s 4ms/step - loss: 0.1838 - accuracy: 0.9714\n"
          ]
        },
        {
          "output_type": "execute_result",
          "data": {
            "text/plain": [
              "[0.18381647765636444, 0.9714285731315613]"
            ]
          },
          "metadata": {},
          "execution_count": 15
        }
      ]
    },
    {
      "cell_type": "code",
      "metadata": {
        "id": "urf_ZZuHeqRI",
        "colab": {
          "base_uri": "https://localhost:8080/"
        },
        "outputId": "fb48de82-ab22-4e4d-94f1-dc864a72fcbd"
      },
      "source": [
        "model.evaluate(x_val , y_val)"
      ],
      "execution_count": 17,
      "outputs": [
        {
          "output_type": "stream",
          "name": "stdout",
          "text": [
            "2/2 [==============================] - 0s 6ms/step - loss: 0.4281 - accuracy: 0.8824\n"
          ]
        },
        {
          "output_type": "execute_result",
          "data": {
            "text/plain": [
              "[0.4281008839607239, 0.8823529481887817]"
            ]
          },
          "metadata": {},
          "execution_count": 17
        }
      ]
    },
    {
      "cell_type": "code",
      "metadata": {
        "colab": {
          "base_uri": "https://localhost:8080/"
        },
        "id": "EiNSmvUEvOct",
        "outputId": "faee4657-3b27-43db-af7c-72b817e72934"
      },
      "source": [
        "for i in range(30):\n",
        "  sample = x_test[i]\n",
        "  sample = np.reshape(sample, (1,30))\n",
        "\n",
        "  if (model.predict(sample)[0][0] > 0.5):\n",
        "    print(\"-Benign\")\n",
        "  else:\n",
        "    print(\"-Malignant\")\n",
        "\n",
        "  if (y_test[i] == 1):\n",
        "    print(\"*Benign\")\n",
        "  else:\n",
        "    print(\"*Melignant\")\n",
        "  print(\"-----------\")"
      ],
      "execution_count": 20,
      "outputs": [
        {
          "output_type": "stream",
          "name": "stdout",
          "text": [
            "-Benign\n",
            "*Benign\n",
            "-----------\n",
            "-Malignant\n",
            "*Melignant\n",
            "-----------\n",
            "-Benign\n",
            "*Benign\n",
            "-----------\n",
            "-Malignant\n",
            "*Melignant\n",
            "-----------\n",
            "-Benign\n",
            "*Benign\n",
            "-----------\n",
            "-Benign\n",
            "*Benign\n",
            "-----------\n",
            "-Benign\n",
            "*Benign\n",
            "-----------\n",
            "-Benign\n",
            "*Benign\n",
            "-----------\n",
            "-Benign\n",
            "*Benign\n",
            "-----------\n",
            "-Malignant\n",
            "*Melignant\n",
            "-----------\n",
            "-Benign\n",
            "*Benign\n",
            "-----------\n",
            "-Benign\n",
            "*Benign\n",
            "-----------\n",
            "-Malignant\n",
            "*Melignant\n",
            "-----------\n",
            "-Benign\n",
            "*Benign\n",
            "-----------\n",
            "-Malignant\n",
            "*Melignant\n",
            "-----------\n",
            "-Benign\n",
            "*Benign\n",
            "-----------\n",
            "-Malignant\n",
            "*Melignant\n",
            "-----------\n",
            "-Malignant\n",
            "*Melignant\n",
            "-----------\n",
            "-Benign\n",
            "*Benign\n",
            "-----------\n",
            "-Benign\n",
            "*Benign\n",
            "-----------\n",
            "-Benign\n",
            "*Benign\n",
            "-----------\n",
            "-Malignant\n",
            "*Melignant\n",
            "-----------\n",
            "-Benign\n",
            "*Benign\n",
            "-----------\n",
            "-Benign\n",
            "*Benign\n",
            "-----------\n",
            "-Benign\n",
            "*Benign\n",
            "-----------\n",
            "-Benign\n",
            "*Benign\n",
            "-----------\n",
            "-Malignant\n",
            "*Benign\n",
            "-----------\n",
            "-Benign\n",
            "*Benign\n",
            "-----------\n",
            "-Benign\n",
            "*Benign\n",
            "-----------\n",
            "-Benign\n",
            "*Benign\n",
            "-----------\n"
          ]
        }
      ]
    },
    {
      "cell_type": "code",
      "metadata": {
        "id": "sBMKILpJy0tr"
      },
      "source": [
        ""
      ],
      "execution_count": null,
      "outputs": []
    }
  ]
}